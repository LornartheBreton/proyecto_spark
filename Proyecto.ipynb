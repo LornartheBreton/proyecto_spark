{
 "cells": [
  {
   "cell_type": "code",
   "execution_count": 1,
   "id": "b2a4e487-a966-433d-bed1-29095d1d3854",
   "metadata": {},
   "outputs": [],
   "source": [
    "from pyspark.sql import SparkSession\n",
    "from pyspark.sql.window import Window\n",
    "import pyspark.sql.functions as F"
   ]
  },
  {
   "cell_type": "code",
   "execution_count": 2,
   "id": "72e40288-e1e8-4054-896b-601096c5a029",
   "metadata": {},
   "outputs": [
    {
     "name": "stderr",
     "output_type": "stream",
     "text": [
      "23/12/10 11:40:03 WARN Utils: Your hostname, MyBeast resolves to a loopback address: 127.0.1.1; using 172.18.210.214 instead (on interface eth0)\n",
      "23/12/10 11:40:03 WARN Utils: Set SPARK_LOCAL_IP if you need to bind to another address\n",
      "Setting default log level to \"WARN\".\n",
      "To adjust logging level use sc.setLogLevel(newLevel). For SparkR, use setLogLevel(newLevel).\n",
      "23/12/10 11:40:05 WARN NativeCodeLoader: Unable to load native-hadoop library for your platform... using builtin-java classes where applicable\n"
     ]
    }
   ],
   "source": [
    "spark = SparkSession\\\n",
    "        .builder\\\n",
    "        .appName('bci')\\\n",
    "        .master('local')\\\n",
    "        .getOrCreate()"
   ]
  },
  {
   "cell_type": "markdown",
   "id": "1683b85b-3404-4a97-afb6-56ca53453ab7",
   "metadata": {},
   "source": [
    "## Load and transform the data"
   ]
  },
  {
   "cell_type": "code",
   "execution_count": 3,
   "id": "13e68a01-4775-4d97-8a58-2f33cce417c4",
   "metadata": {},
   "outputs": [
    {
     "name": "stderr",
     "output_type": "stream",
     "text": [
      "                                                                                \r"
     ]
    }
   ],
   "source": [
    "df = spark.read\\\n",
    "    .options(header=True,inferSchema='True',delimiter=',')\\\n",
    "    .csv(\"data/sub3_comp.csv\")"
   ]
  },
  {
   "cell_type": "code",
   "execution_count": 4,
   "id": "6d04192b-41ce-4843-b8aa-a8e7549bde41",
   "metadata": {},
   "outputs": [],
   "source": [
    "windowSpec = Window.orderBy(F.lit(1))"
   ]
  },
  {
   "cell_type": "code",
   "execution_count": 5,
   "id": "63489141-98ce-4803-9523-1e86abd57d1e",
   "metadata": {},
   "outputs": [],
   "source": [
    "df = df.withColumn(\"ms\", F.row_number().over(windowSpec))"
   ]
  },
  {
   "cell_type": "code",
   "execution_count": 6,
   "id": "2a570da1-0b4f-47c7-a144-270918584fe3",
   "metadata": {},
   "outputs": [],
   "source": [
    "df = df.withColumn(\"step\", F.ceil(df['ms']/100))"
   ]
  },
  {
   "cell_type": "code",
   "execution_count": 7,
   "id": "b0a9d923-385d-4125-818c-77eaaee9940e",
   "metadata": {},
   "outputs": [
    {
     "name": "stderr",
     "output_type": "stream",
     "text": [
      "23/12/10 11:41:15 WARN WindowExec: No Partition Defined for Window operation! Moving all data to a single partition, this can cause serious performance degradation.\n",
      "23/12/10 11:41:15 WARN WindowExec: No Partition Defined for Window operation! Moving all data to a single partition, this can cause serious performance degradation.\n",
      "23/12/10 11:41:15 WARN WindowExec: No Partition Defined for Window operation! Moving all data to a single partition, this can cause serious performance degradation.\n",
      "23/12/10 11:41:15 WARN WindowExec: No Partition Defined for Window operation! Moving all data to a single partition, this can cause serious performance degradation.\n",
      "23/12/10 11:41:15 WARN WindowExec: No Partition Defined for Window operation! Moving all data to a single partition, this can cause serious performance degradation.\n"
     ]
    },
    {
     "name": "stdout",
     "output_type": "stream",
     "text": [
      "+---+----+--------------------+\n",
      "| ms|step|               thumb|\n",
      "+---+----+--------------------+\n",
      "|  1|   1|-0.41384039298833086|\n",
      "|  2|   1|-0.41384039298833086|\n",
      "|  3|   1|-0.41384039298833086|\n",
      "|  4|   1|-0.41384039298833086|\n",
      "|  5|   1|-0.41384039298833086|\n",
      "|  6|   1|-0.41384039298833086|\n",
      "|  7|   1|-0.41384039298833086|\n",
      "|  8|   1|-0.41384039298833086|\n",
      "|  9|   1|-0.41384039298833086|\n",
      "| 10|   1|-0.41384039298833086|\n",
      "| 11|   1|-0.41384039298833086|\n",
      "| 12|   1|-0.41384039298833086|\n",
      "| 13|   1|-0.41384039298833086|\n",
      "| 14|   1|-0.41384039298833086|\n",
      "| 15|   1|-0.41384039298833086|\n",
      "| 16|   1|-0.41384039298833086|\n",
      "| 17|   1|-0.41384039298833086|\n",
      "| 18|   1|-0.41384039298833086|\n",
      "| 19|   1|-0.41384039298833086|\n",
      "| 20|   1|-0.41384039298833086|\n",
      "| 21|   1|-0.41384039298833086|\n",
      "| 22|   1|-0.41384039298833086|\n",
      "| 23|   1|-0.41384039298833086|\n",
      "| 24|   1|-0.41384039298833086|\n",
      "| 25|   1|-0.41384039298833086|\n",
      "| 26|   1|-0.41384039298833086|\n",
      "| 27|   1|-0.41384039298833086|\n",
      "| 28|   1|-0.41384039298833086|\n",
      "| 29|   1|-0.41384039298833086|\n",
      "| 30|   1|-0.41384039298833086|\n",
      "| 31|   1|-0.41384039298833086|\n",
      "| 32|   1|-0.41384039298833086|\n",
      "| 33|   1|-0.41384039298833086|\n",
      "| 34|   1|-0.41384039298833086|\n",
      "| 35|   1|-0.41384039298833086|\n",
      "| 36|   1|-0.41384039298833086|\n",
      "| 37|   1|-0.41384039298833086|\n",
      "| 38|   1|-0.41384039298833086|\n",
      "| 39|   1|-0.41384039298833086|\n",
      "| 40|   1|-0.41384039298833086|\n",
      "| 41|   1| -0.4069111168413501|\n",
      "| 42|   1| -0.4069111168413501|\n",
      "| 43|   1| -0.4069111168413501|\n",
      "| 44|   1| -0.4069111168413501|\n",
      "| 45|   1| -0.4069111168413501|\n",
      "| 46|   1| -0.4069111168413501|\n",
      "| 47|   1| -0.4069111168413501|\n",
      "| 48|   1| -0.4069111168413501|\n",
      "| 49|   1| -0.4069111168413501|\n",
      "| 50|   1| -0.4069111168413501|\n",
      "| 51|   1| -0.4069111168413501|\n",
      "| 52|   1| -0.4069111168413501|\n",
      "| 53|   1| -0.4069111168413501|\n",
      "| 54|   1| -0.4069111168413501|\n",
      "| 55|   1| -0.4069111168413501|\n",
      "| 56|   1| -0.4069111168413501|\n",
      "| 57|   1| -0.4069111168413501|\n",
      "| 58|   1| -0.4069111168413501|\n",
      "| 59|   1| -0.4069111168413501|\n",
      "| 60|   1| -0.4069111168413501|\n",
      "| 61|   1| -0.4069111168413501|\n",
      "| 62|   1| -0.4069111168413501|\n",
      "| 63|   1| -0.4069111168413501|\n",
      "| 64|   1| -0.4069111168413501|\n",
      "| 65|   1| -0.4069111168413501|\n",
      "| 66|   1| -0.4069111168413501|\n",
      "| 67|   1| -0.4069111168413501|\n",
      "| 68|   1| -0.4069111168413501|\n",
      "| 69|   1| -0.4069111168413501|\n",
      "| 70|   1| -0.4069111168413501|\n",
      "| 71|   1| -0.4069111168413501|\n",
      "| 72|   1| -0.4069111168413501|\n",
      "| 73|   1| -0.4069111168413501|\n",
      "| 74|   1| -0.4069111168413501|\n",
      "| 75|   1| -0.4069111168413501|\n",
      "| 76|   1| -0.4069111168413501|\n",
      "| 77|   1| -0.4069111168413501|\n",
      "| 78|   1| -0.4069111168413501|\n",
      "| 79|   1| -0.4069111168413501|\n",
      "| 80|   1| -0.4069111168413501|\n",
      "| 81|   1| -0.4069111168413501|\n",
      "| 82|   1| -0.4069111168413501|\n",
      "| 83|   1| -0.4069111168413501|\n",
      "| 84|   1| -0.4069111168413501|\n",
      "| 85|   1| -0.4069111168413501|\n",
      "| 86|   1| -0.4069111168413501|\n",
      "| 87|   1| -0.4069111168413501|\n",
      "| 88|   1| -0.4069111168413501|\n",
      "| 89|   1| -0.4069111168413501|\n",
      "| 90|   1| -0.4069111168413501|\n",
      "| 91|   1| -0.4069111168413501|\n",
      "| 92|   1| -0.4069111168413501|\n",
      "| 93|   1| -0.4069111168413501|\n",
      "| 94|   1| -0.4069111168413501|\n",
      "| 95|   1| -0.4069111168413501|\n",
      "| 96|   1| -0.4069111168413501|\n",
      "| 97|   1| -0.4069111168413501|\n",
      "| 98|   1| -0.4069111168413501|\n",
      "| 99|   1| -0.4069111168413501|\n",
      "|100|   1| -0.4069111168413501|\n",
      "|101|   2| -0.4069111168413501|\n",
      "|102|   2| -0.4069111168413501|\n",
      "|103|   2| -0.4069111168413501|\n",
      "|104|   2| -0.4069111168413501|\n",
      "|105|   2| -0.4069111168413501|\n",
      "|106|   2| -0.4069111168413501|\n",
      "|107|   2| -0.4069111168413501|\n",
      "|108|   2| -0.4069111168413501|\n",
      "|109|   2| -0.4069111168413501|\n",
      "|110|   2| -0.4069111168413501|\n",
      "|111|   2| -0.4069111168413501|\n",
      "|112|   2| -0.4069111168413501|\n",
      "|113|   2| -0.4069111168413501|\n",
      "|114|   2| -0.4069111168413501|\n",
      "|115|   2| -0.4069111168413501|\n",
      "|116|   2| -0.4069111168413501|\n",
      "|117|   2| -0.4069111168413501|\n",
      "|118|   2| -0.4069111168413501|\n",
      "|119|   2| -0.4069111168413501|\n",
      "|120|   2| -0.4069111168413501|\n",
      "|121|   2| -0.4069111168413501|\n",
      "|122|   2| -0.4069111168413501|\n",
      "|123|   2| -0.4069111168413501|\n",
      "|124|   2| -0.4069111168413501|\n",
      "|125|   2| -0.4069111168413501|\n",
      "|126|   2| -0.4069111168413501|\n",
      "|127|   2| -0.4069111168413501|\n",
      "|128|   2| -0.4069111168413501|\n",
      "|129|   2| -0.4069111168413501|\n",
      "|130|   2| -0.4069111168413501|\n",
      "|131|   2| -0.4069111168413501|\n",
      "|132|   2| -0.4069111168413501|\n",
      "|133|   2| -0.4069111168413501|\n",
      "|134|   2| -0.4069111168413501|\n",
      "|135|   2| -0.4069111168413501|\n",
      "|136|   2| -0.4069111168413501|\n",
      "|137|   2| -0.4069111168413501|\n",
      "|138|   2| -0.4069111168413501|\n",
      "|139|   2| -0.4069111168413501|\n",
      "|140|   2| -0.4069111168413501|\n",
      "|141|   2| -0.4069111168413501|\n",
      "|142|   2| -0.4069111168413501|\n",
      "|143|   2| -0.4069111168413501|\n",
      "|144|   2| -0.4069111168413501|\n",
      "|145|   2| -0.4069111168413501|\n",
      "|146|   2| -0.4069111168413501|\n",
      "|147|   2| -0.4069111168413501|\n",
      "|148|   2| -0.4069111168413501|\n",
      "|149|   2| -0.4069111168413501|\n",
      "|150|   2| -0.4069111168413501|\n",
      "|151|   2| -0.4069111168413501|\n",
      "|152|   2| -0.4069111168413501|\n",
      "|153|   2| -0.4069111168413501|\n",
      "|154|   2| -0.4069111168413501|\n",
      "|155|   2| -0.4069111168413501|\n",
      "|156|   2| -0.4069111168413501|\n",
      "|157|   2| -0.4069111168413501|\n",
      "|158|   2| -0.4069111168413501|\n",
      "|159|   2| -0.4069111168413501|\n",
      "|160|   2| -0.4069111168413501|\n",
      "|161|   2|-0.41384039298833086|\n",
      "|162|   2|-0.41384039298833086|\n",
      "|163|   2|-0.41384039298833086|\n",
      "|164|   2|-0.41384039298833086|\n",
      "|165|   2|-0.41384039298833086|\n",
      "|166|   2|-0.41384039298833086|\n",
      "|167|   2|-0.41384039298833086|\n",
      "|168|   2|-0.41384039298833086|\n",
      "|169|   2|-0.41384039298833086|\n",
      "|170|   2|-0.41384039298833086|\n",
      "|171|   2|-0.41384039298833086|\n",
      "|172|   2|-0.41384039298833086|\n",
      "|173|   2|-0.41384039298833086|\n",
      "|174|   2|-0.41384039298833086|\n",
      "|175|   2|-0.41384039298833086|\n",
      "|176|   2|-0.41384039298833086|\n",
      "|177|   2|-0.41384039298833086|\n",
      "|178|   2|-0.41384039298833086|\n",
      "|179|   2|-0.41384039298833086|\n",
      "|180|   2|-0.41384039298833086|\n",
      "|181|   2|-0.41384039298833086|\n",
      "|182|   2|-0.41384039298833086|\n",
      "|183|   2|-0.41384039298833086|\n",
      "|184|   2|-0.41384039298833086|\n",
      "|185|   2|-0.41384039298833086|\n",
      "|186|   2|-0.41384039298833086|\n",
      "|187|   2|-0.41384039298833086|\n",
      "|188|   2|-0.41384039298833086|\n",
      "|189|   2|-0.41384039298833086|\n",
      "|190|   2|-0.41384039298833086|\n",
      "|191|   2|-0.41384039298833086|\n",
      "|192|   2|-0.41384039298833086|\n",
      "|193|   2|-0.41384039298833086|\n",
      "|194|   2|-0.41384039298833086|\n",
      "|195|   2|-0.41384039298833086|\n",
      "|196|   2|-0.41384039298833086|\n",
      "|197|   2|-0.41384039298833086|\n",
      "|198|   2|-0.41384039298833086|\n",
      "|199|   2|-0.41384039298833086|\n",
      "|200|   2|-0.41384039298833086|\n",
      "+---+----+--------------------+\n",
      "only showing top 200 rows\n",
      "\n"
     ]
    }
   ],
   "source": [
    "df.select(\"ms\",\"step\",\"thumb\").show(200)"
   ]
  },
  {
   "cell_type": "code",
   "execution_count": 13,
   "id": "1dc4ae91-4384-48e5-80e1-371bcd7c45dd",
   "metadata": {},
   "outputs": [],
   "source": [
    "num_files = 4000\n"
   ]
  },
  {
   "cell_type": "code",
   "execution_count": 14,
   "id": "5dfddf52-27de-4f4e-9108-878f8d2fac4e",
   "metadata": {},
   "outputs": [
    {
     "name": "stderr",
     "output_type": "stream",
     "text": [
      "23/12/10 11:45:33 WARN WindowExec: No Partition Defined for Window operation! Moving all data to a single partition, this can cause serious performance degradation.\n",
      "23/12/10 11:45:33 WARN WindowExec: No Partition Defined for Window operation! Moving all data to a single partition, this can cause serious performance degradation.\n",
      "23/12/10 11:45:33 WARN SparkStringUtils: Truncated the string representation of a plan since it was too large. This behavior can be adjusted by setting 'spark.sql.debug.maxToStringFields'.\n",
      "23/12/10 11:45:43 WARN WindowExec: No Partition Defined for Window operation! Moving all data to a single partition, this can cause serious performance degradation.\n",
      "23/12/10 11:45:43 WARN WindowExec: No Partition Defined for Window operation! Moving all data to a single partition, this can cause serious performance degradation.\n",
      "                                                                                \r"
     ]
    }
   ],
   "source": [
    "df = df.repartition(num_files)\n",
    "\n",
    "df.write.csv(\"data/processed_bci_csv\",\n",
    "             mode = \"overwrite\",\n",
    "             header = True)"
   ]
  },
  {
   "cell_type": "markdown",
   "id": "56a0aa31-4dd9-49c6-ac5a-ea3a08f5c4b6",
   "metadata": {},
   "source": [
    "## Get Data Schema"
   ]
  },
  {
   "cell_type": "code",
   "execution_count": 15,
   "id": "3ea04728-a1c4-4466-af7d-226e65418d83",
   "metadata": {},
   "outputs": [],
   "source": [
    "dataSchema = df.schema"
   ]
  },
  {
   "cell_type": "markdown",
   "id": "86ebf30c-7e9d-4871-89b5-63438774d57a",
   "metadata": {},
   "source": [
    "## Set up stream"
   ]
  },
  {
   "cell_type": "code",
   "execution_count": 49,
   "id": "07b22709-4f09-46ac-a083-c328f0455096",
   "metadata": {},
   "outputs": [],
   "source": [
    "signals = spark\\\n",
    "            .readStream\\\n",
    "            .format('csv')\\\n",
    "            .schema(dataSchema)\\\n",
    "            .option(\"header\",True)\\\n",
    "            .option(\"maxFilesPerTrigger\",1)\\\n",
    "            .load(r\"data/processed_bci_csv/\")"
   ]
  },
  {
   "cell_type": "code",
   "execution_count": 51,
   "id": "f22d1947-d502-497e-95f8-97bdec83fb42",
   "metadata": {},
   "outputs": [
    {
     "ename": "AnalysisException",
     "evalue": "[EVENT_TIME_IS_NOT_ON_TIMESTAMP_TYPE] The event time `step` has the invalid type \"BIGINT\", but expected \"TIMESTAMP\".;\nEventTimeWatermark step#120548: bigint, 1 seconds\n+- StreamingRelation DataSource(org.apache.spark.sql.SparkSession@279e4b7c,csv,List(),Some(StructType(StructField(thumb,DoubleType,true),StructField(index,DoubleType,true),StructField(middle,DoubleType,true),StructField(ring,DoubleType,true),StructField(little,DoubleType,true),StructField(channel_1,DoubleType,true),StructField(channel_2,DoubleType,true),StructField(channel_3,DoubleType,true),StructField(channel_4,DoubleType,true),StructField(channel_5,DoubleType,true),StructField(channel_6,DoubleType,true),StructField(channel_7,DoubleType,true),StructField(channel_8,DoubleType,true),StructField(channel_9,DoubleType,true),StructField(channel_10,DoubleType,true),StructField(channel_11,DoubleType,true),StructField(channel_12,DoubleType,true),StructField(channel_13,DoubleType,true),StructField(channel_14,DoubleType,true),StructField(channel_15,DoubleType,true),StructField(channel_16,DoubleType,true),StructField(channel_17,DoubleType,true),StructField(channel_18,DoubleType,true),StructField(channel_19,DoubleType,true),StructField(channel_20,DoubleType,true),StructField(channel_21,DoubleType,true),StructField(channel_22,DoubleType,true),StructField(channel_23,DoubleType,true),StructField(channel_24,DoubleType,true),StructField(channel_25,DoubleType,true),StructField(channel_26,DoubleType,true),StructField(channel_27,DoubleType,true),StructField(channel_28,DoubleType,true),StructField(channel_29,DoubleType,true),StructField(channel_30,DoubleType,true),StructField(channel_31,DoubleType,true),StructField(channel_32,DoubleType,true),StructField(channel_33,DoubleType,true),StructField(channel_34,DoubleType,true),StructField(channel_35,DoubleType,true),StructField(channel_36,DoubleType,true),StructField(channel_37,DoubleType,true),StructField(channel_38,DoubleType,true),StructField(channel_39,DoubleType,true),StructField(channel_40,DoubleType,true),StructField(channel_41,DoubleType,true),StructField(channel_42,DoubleType,true),StructField(channel_43,DoubleType,true),StructField(channel_44,DoubleType,true),StructField(channel_45,DoubleType,true),StructField(channel_46,DoubleType,true),StructField(channel_47,DoubleType,true),StructField(channel_48,DoubleType,true),StructField(channel_49,DoubleType,true),StructField(channel_50,DoubleType,true),StructField(channel_51,DoubleType,true),StructField(channel_52,DoubleType,true),StructField(channel_53,DoubleType,true),StructField(channel_54,DoubleType,true),StructField(channel_55,DoubleType,true),StructField(channel_56,DoubleType,true),StructField(channel_57,DoubleType,true),StructField(channel_58,DoubleType,true),StructField(channel_59,DoubleType,true),StructField(channel_60,DoubleType,true),StructField(channel_61,DoubleType,true),StructField(channel_62,DoubleType,true),StructField(channel_63,DoubleType,true),StructField(channel_64,DoubleType,true),StructField(ms,IntegerType,false),StructField(step,LongType,true))),List(),None,Map(header -> true, maxFilesPerTrigger -> 1, path -> data/processed_bci_csv/),None), FileSource[data/processed_bci_csv/], [thumb#120478, index#120479, middle#120480, ring#120481, little#120482, channel_1#120483, channel_2#120484, channel_3#120485, channel_4#120486, channel_5#120487, channel_6#120488, channel_7#120489, channel_8#120490, channel_9#120491, channel_10#120492, channel_11#120493, channel_12#120494, channel_13#120495, channel_14#120496, channel_15#120497, channel_16#120498, channel_17#120499, channel_18#120500, channel_19#120501, ... 47 more fields]\n",
     "output_type": "error",
     "traceback": [
      "\u001b[0;31m---------------------------------------------------------------------------\u001b[0m",
      "\u001b[0;31mAnalysisException\u001b[0m                         Traceback (most recent call last)",
      "Cell \u001b[0;32mIn[51], line 1\u001b[0m\n\u001b[0;32m----> 1\u001b[0m signals \u001b[38;5;241m=\u001b[39m \u001b[43msignals\u001b[49m\u001b[38;5;241;43m.\u001b[39;49m\u001b[43mwithWatermark\u001b[49m\u001b[43m(\u001b[49m\n\u001b[1;32m      2\u001b[0m \u001b[43m    \u001b[49m\u001b[38;5;124;43m\"\u001b[39;49m\u001b[38;5;124;43mstep\u001b[39;49m\u001b[38;5;124;43m\"\u001b[39;49m\u001b[43m,\u001b[49m\n\u001b[1;32m      3\u001b[0m \u001b[43m    \u001b[49m\u001b[38;5;124;43m\"\u001b[39;49m\u001b[38;5;124;43m1 second\u001b[39;49m\u001b[38;5;124;43m\"\u001b[39;49m\n\u001b[1;32m      4\u001b[0m \u001b[43m)\u001b[49m\n",
      "File \u001b[0;32m~/bci/bci/lib/python3.10/site-packages/pyspark/sql/dataframe.py:1143\u001b[0m, in \u001b[0;36mDataFrame.withWatermark\u001b[0;34m(self, eventTime, delayThreshold)\u001b[0m\n\u001b[1;32m   1135\u001b[0m \u001b[38;5;28;01mif\u001b[39;00m \u001b[38;5;129;01mnot\u001b[39;00m delayThreshold \u001b[38;5;129;01mor\u001b[39;00m \u001b[38;5;28mtype\u001b[39m(delayThreshold) \u001b[38;5;129;01mis\u001b[39;00m \u001b[38;5;129;01mnot\u001b[39;00m \u001b[38;5;28mstr\u001b[39m:\n\u001b[1;32m   1136\u001b[0m     \u001b[38;5;28;01mraise\u001b[39;00m PySparkTypeError(\n\u001b[1;32m   1137\u001b[0m         error_class\u001b[38;5;241m=\u001b[39m\u001b[38;5;124m\"\u001b[39m\u001b[38;5;124mNOT_STR\u001b[39m\u001b[38;5;124m\"\u001b[39m,\n\u001b[1;32m   1138\u001b[0m         message_parameters\u001b[38;5;241m=\u001b[39m{\n\u001b[0;32m   (...)\u001b[0m\n\u001b[1;32m   1141\u001b[0m         },\n\u001b[1;32m   1142\u001b[0m     )\n\u001b[0;32m-> 1143\u001b[0m jdf \u001b[38;5;241m=\u001b[39m \u001b[38;5;28;43mself\u001b[39;49m\u001b[38;5;241;43m.\u001b[39;49m\u001b[43m_jdf\u001b[49m\u001b[38;5;241;43m.\u001b[39;49m\u001b[43mwithWatermark\u001b[49m\u001b[43m(\u001b[49m\u001b[43meventTime\u001b[49m\u001b[43m,\u001b[49m\u001b[43m \u001b[49m\u001b[43mdelayThreshold\u001b[49m\u001b[43m)\u001b[49m\n\u001b[1;32m   1144\u001b[0m \u001b[38;5;28;01mreturn\u001b[39;00m DataFrame(jdf, \u001b[38;5;28mself\u001b[39m\u001b[38;5;241m.\u001b[39msparkSession)\n",
      "File \u001b[0;32m~/bci/bci/lib/python3.10/site-packages/py4j/java_gateway.py:1322\u001b[0m, in \u001b[0;36mJavaMember.__call__\u001b[0;34m(self, *args)\u001b[0m\n\u001b[1;32m   1316\u001b[0m command \u001b[38;5;241m=\u001b[39m proto\u001b[38;5;241m.\u001b[39mCALL_COMMAND_NAME \u001b[38;5;241m+\u001b[39m\\\n\u001b[1;32m   1317\u001b[0m     \u001b[38;5;28mself\u001b[39m\u001b[38;5;241m.\u001b[39mcommand_header \u001b[38;5;241m+\u001b[39m\\\n\u001b[1;32m   1318\u001b[0m     args_command \u001b[38;5;241m+\u001b[39m\\\n\u001b[1;32m   1319\u001b[0m     proto\u001b[38;5;241m.\u001b[39mEND_COMMAND_PART\n\u001b[1;32m   1321\u001b[0m answer \u001b[38;5;241m=\u001b[39m \u001b[38;5;28mself\u001b[39m\u001b[38;5;241m.\u001b[39mgateway_client\u001b[38;5;241m.\u001b[39msend_command(command)\n\u001b[0;32m-> 1322\u001b[0m return_value \u001b[38;5;241m=\u001b[39m \u001b[43mget_return_value\u001b[49m\u001b[43m(\u001b[49m\n\u001b[1;32m   1323\u001b[0m \u001b[43m    \u001b[49m\u001b[43manswer\u001b[49m\u001b[43m,\u001b[49m\u001b[43m \u001b[49m\u001b[38;5;28;43mself\u001b[39;49m\u001b[38;5;241;43m.\u001b[39;49m\u001b[43mgateway_client\u001b[49m\u001b[43m,\u001b[49m\u001b[43m \u001b[49m\u001b[38;5;28;43mself\u001b[39;49m\u001b[38;5;241;43m.\u001b[39;49m\u001b[43mtarget_id\u001b[49m\u001b[43m,\u001b[49m\u001b[43m \u001b[49m\u001b[38;5;28;43mself\u001b[39;49m\u001b[38;5;241;43m.\u001b[39;49m\u001b[43mname\u001b[49m\u001b[43m)\u001b[49m\n\u001b[1;32m   1325\u001b[0m \u001b[38;5;28;01mfor\u001b[39;00m temp_arg \u001b[38;5;129;01min\u001b[39;00m temp_args:\n\u001b[1;32m   1326\u001b[0m     \u001b[38;5;28;01mif\u001b[39;00m \u001b[38;5;28mhasattr\u001b[39m(temp_arg, \u001b[38;5;124m\"\u001b[39m\u001b[38;5;124m_detach\u001b[39m\u001b[38;5;124m\"\u001b[39m):\n",
      "File \u001b[0;32m~/bci/bci/lib/python3.10/site-packages/pyspark/errors/exceptions/captured.py:185\u001b[0m, in \u001b[0;36mcapture_sql_exception.<locals>.deco\u001b[0;34m(*a, **kw)\u001b[0m\n\u001b[1;32m    181\u001b[0m converted \u001b[38;5;241m=\u001b[39m convert_exception(e\u001b[38;5;241m.\u001b[39mjava_exception)\n\u001b[1;32m    182\u001b[0m \u001b[38;5;28;01mif\u001b[39;00m \u001b[38;5;129;01mnot\u001b[39;00m \u001b[38;5;28misinstance\u001b[39m(converted, UnknownException):\n\u001b[1;32m    183\u001b[0m     \u001b[38;5;66;03m# Hide where the exception came from that shows a non-Pythonic\u001b[39;00m\n\u001b[1;32m    184\u001b[0m     \u001b[38;5;66;03m# JVM exception message.\u001b[39;00m\n\u001b[0;32m--> 185\u001b[0m     \u001b[38;5;28;01mraise\u001b[39;00m converted \u001b[38;5;28;01mfrom\u001b[39;00m \u001b[38;5;28;01mNone\u001b[39;00m\n\u001b[1;32m    186\u001b[0m \u001b[38;5;28;01melse\u001b[39;00m:\n\u001b[1;32m    187\u001b[0m     \u001b[38;5;28;01mraise\u001b[39;00m\n",
      "\u001b[0;31mAnalysisException\u001b[0m: [EVENT_TIME_IS_NOT_ON_TIMESTAMP_TYPE] The event time `step` has the invalid type \"BIGINT\", but expected \"TIMESTAMP\".;\nEventTimeWatermark step#120548: bigint, 1 seconds\n+- StreamingRelation DataSource(org.apache.spark.sql.SparkSession@279e4b7c,csv,List(),Some(StructType(StructField(thumb,DoubleType,true),StructField(index,DoubleType,true),StructField(middle,DoubleType,true),StructField(ring,DoubleType,true),StructField(little,DoubleType,true),StructField(channel_1,DoubleType,true),StructField(channel_2,DoubleType,true),StructField(channel_3,DoubleType,true),StructField(channel_4,DoubleType,true),StructField(channel_5,DoubleType,true),StructField(channel_6,DoubleType,true),StructField(channel_7,DoubleType,true),StructField(channel_8,DoubleType,true),StructField(channel_9,DoubleType,true),StructField(channel_10,DoubleType,true),StructField(channel_11,DoubleType,true),StructField(channel_12,DoubleType,true),StructField(channel_13,DoubleType,true),StructField(channel_14,DoubleType,true),StructField(channel_15,DoubleType,true),StructField(channel_16,DoubleType,true),StructField(channel_17,DoubleType,true),StructField(channel_18,DoubleType,true),StructField(channel_19,DoubleType,true),StructField(channel_20,DoubleType,true),StructField(channel_21,DoubleType,true),StructField(channel_22,DoubleType,true),StructField(channel_23,DoubleType,true),StructField(channel_24,DoubleType,true),StructField(channel_25,DoubleType,true),StructField(channel_26,DoubleType,true),StructField(channel_27,DoubleType,true),StructField(channel_28,DoubleType,true),StructField(channel_29,DoubleType,true),StructField(channel_30,DoubleType,true),StructField(channel_31,DoubleType,true),StructField(channel_32,DoubleType,true),StructField(channel_33,DoubleType,true),StructField(channel_34,DoubleType,true),StructField(channel_35,DoubleType,true),StructField(channel_36,DoubleType,true),StructField(channel_37,DoubleType,true),StructField(channel_38,DoubleType,true),StructField(channel_39,DoubleType,true),StructField(channel_40,DoubleType,true),StructField(channel_41,DoubleType,true),StructField(channel_42,DoubleType,true),StructField(channel_43,DoubleType,true),StructField(channel_44,DoubleType,true),StructField(channel_45,DoubleType,true),StructField(channel_46,DoubleType,true),StructField(channel_47,DoubleType,true),StructField(channel_48,DoubleType,true),StructField(channel_49,DoubleType,true),StructField(channel_50,DoubleType,true),StructField(channel_51,DoubleType,true),StructField(channel_52,DoubleType,true),StructField(channel_53,DoubleType,true),StructField(channel_54,DoubleType,true),StructField(channel_55,DoubleType,true),StructField(channel_56,DoubleType,true),StructField(channel_57,DoubleType,true),StructField(channel_58,DoubleType,true),StructField(channel_59,DoubleType,true),StructField(channel_60,DoubleType,true),StructField(channel_61,DoubleType,true),StructField(channel_62,DoubleType,true),StructField(channel_63,DoubleType,true),StructField(channel_64,DoubleType,true),StructField(ms,IntegerType,false),StructField(step,LongType,true))),List(),None,Map(header -> true, maxFilesPerTrigger -> 1, path -> data/processed_bci_csv/),None), FileSource[data/processed_bci_csv/], [thumb#120478, index#120479, middle#120480, ring#120481, little#120482, channel_1#120483, channel_2#120484, channel_3#120485, channel_4#120486, channel_5#120487, channel_6#120488, channel_7#120489, channel_8#120490, channel_9#120491, channel_10#120492, channel_11#120493, channel_12#120494, channel_13#120495, channel_14#120496, channel_15#120497, channel_16#120498, channel_17#120499, channel_18#120500, channel_19#120501, ... 47 more fields]\n"
     ]
    }
   ],
   "source": [
    "signals = signals.withWatermark(\n",
    "    \"step\",\n",
    "    \"1 second\"\n",
    ")"
   ]
  },
  {
   "cell_type": "code",
   "execution_count": 18,
   "id": "cf68b7c7-dde5-40b3-a0ed-417163f3ddc7",
   "metadata": {},
   "outputs": [
    {
     "data": {
      "text/plain": [
       "True"
      ]
     },
     "execution_count": 18,
     "metadata": {},
     "output_type": "execute_result"
    }
   ],
   "source": [
    "signals.isStreaming"
   ]
  },
  {
   "cell_type": "code",
   "execution_count": 19,
   "id": "2d1f0abe-0cdf-4237-a87c-e79febe44c55",
   "metadata": {},
   "outputs": [
    {
     "name": "stdout",
     "output_type": "stream",
     "text": [
      "root\n",
      " |-- thumb: double (nullable = true)\n",
      " |-- index: double (nullable = true)\n",
      " |-- middle: double (nullable = true)\n",
      " |-- ring: double (nullable = true)\n",
      " |-- little: double (nullable = true)\n",
      " |-- channel_1: double (nullable = true)\n",
      " |-- channel_2: double (nullable = true)\n",
      " |-- channel_3: double (nullable = true)\n",
      " |-- channel_4: double (nullable = true)\n",
      " |-- channel_5: double (nullable = true)\n",
      " |-- channel_6: double (nullable = true)\n",
      " |-- channel_7: double (nullable = true)\n",
      " |-- channel_8: double (nullable = true)\n",
      " |-- channel_9: double (nullable = true)\n",
      " |-- channel_10: double (nullable = true)\n",
      " |-- channel_11: double (nullable = true)\n",
      " |-- channel_12: double (nullable = true)\n",
      " |-- channel_13: double (nullable = true)\n",
      " |-- channel_14: double (nullable = true)\n",
      " |-- channel_15: double (nullable = true)\n",
      " |-- channel_16: double (nullable = true)\n",
      " |-- channel_17: double (nullable = true)\n",
      " |-- channel_18: double (nullable = true)\n",
      " |-- channel_19: double (nullable = true)\n",
      " |-- channel_20: double (nullable = true)\n",
      " |-- channel_21: double (nullable = true)\n",
      " |-- channel_22: double (nullable = true)\n",
      " |-- channel_23: double (nullable = true)\n",
      " |-- channel_24: double (nullable = true)\n",
      " |-- channel_25: double (nullable = true)\n",
      " |-- channel_26: double (nullable = true)\n",
      " |-- channel_27: double (nullable = true)\n",
      " |-- channel_28: double (nullable = true)\n",
      " |-- channel_29: double (nullable = true)\n",
      " |-- channel_30: double (nullable = true)\n",
      " |-- channel_31: double (nullable = true)\n",
      " |-- channel_32: double (nullable = true)\n",
      " |-- channel_33: double (nullable = true)\n",
      " |-- channel_34: double (nullable = true)\n",
      " |-- channel_35: double (nullable = true)\n",
      " |-- channel_36: double (nullable = true)\n",
      " |-- channel_37: double (nullable = true)\n",
      " |-- channel_38: double (nullable = true)\n",
      " |-- channel_39: double (nullable = true)\n",
      " |-- channel_40: double (nullable = true)\n",
      " |-- channel_41: double (nullable = true)\n",
      " |-- channel_42: double (nullable = true)\n",
      " |-- channel_43: double (nullable = true)\n",
      " |-- channel_44: double (nullable = true)\n",
      " |-- channel_45: double (nullable = true)\n",
      " |-- channel_46: double (nullable = true)\n",
      " |-- channel_47: double (nullable = true)\n",
      " |-- channel_48: double (nullable = true)\n",
      " |-- channel_49: double (nullable = true)\n",
      " |-- channel_50: double (nullable = true)\n",
      " |-- channel_51: double (nullable = true)\n",
      " |-- channel_52: double (nullable = true)\n",
      " |-- channel_53: double (nullable = true)\n",
      " |-- channel_54: double (nullable = true)\n",
      " |-- channel_55: double (nullable = true)\n",
      " |-- channel_56: double (nullable = true)\n",
      " |-- channel_57: double (nullable = true)\n",
      " |-- channel_58: double (nullable = true)\n",
      " |-- channel_59: double (nullable = true)\n",
      " |-- channel_60: double (nullable = true)\n",
      " |-- channel_61: double (nullable = true)\n",
      " |-- channel_62: double (nullable = true)\n",
      " |-- channel_63: double (nullable = true)\n",
      " |-- channel_64: double (nullable = true)\n",
      " |-- ms: integer (nullable = true)\n",
      " |-- step: long (nullable = true)\n",
      "\n"
     ]
    }
   ],
   "source": [
    "signals.printSchema()"
   ]
  },
  {
   "cell_type": "markdown",
   "id": "40fc6393-918f-41d0-8db5-1ac2b35e604e",
   "metadata": {},
   "source": [
    "## Create transformation"
   ]
  },
  {
   "cell_type": "code",
   "execution_count": 37,
   "id": "57ee6e3c-bd64-425f-9683-f131865cfeb6",
   "metadata": {},
   "outputs": [],
   "source": [
    "average_readings = signals.select([F.avg(col).alias('avg_' + col) for col in ['thumb','index', 'middle', 'ring']])"
   ]
  },
  {
   "cell_type": "code",
   "execution_count": 40,
   "id": "812f3abe-ca9b-427f-a8bf-267495a21fe1",
   "metadata": {},
   "outputs": [],
   "source": [
    "import requests"
   ]
  },
  {
   "cell_type": "code",
   "execution_count": 46,
   "id": "cab75260-f859-4b96-81f8-1e316b0a4a11",
   "metadata": {},
   "outputs": [],
   "source": [
    "def send_batch_to_http_server(batch_df, epoch_id):\n",
    "    # Convert the DataFrame to a JSON string or another suitable format\n",
    "    json_data = batch_df.toJSON().collect()\n",
    "    \n",
    "    # HTTP POST request for each record in the batch\n",
    "    for record in json_data:\n",
    "        response = requests.post('ttp://127.0.0.1:5000/post_data', json=record)\n",
    "        # Handle the response if necessary"
   ]
  },
  {
   "cell_type": "code",
   "execution_count": 53,
   "id": "e199114e-e2b2-493a-b4a2-badb56157938",
   "metadata": {},
   "outputs": [
    {
     "name": "stderr",
     "output_type": "stream",
     "text": [
      "23/12/10 12:29:26 WARN ResolveWriteToStream: Temporary checkpoint location created which is deleted normally when the query didn't fail: /tmp/temporary-65549593-8344-4ad9-a349-0875b47ed624. If it's required to delete it under any circumstances, please set spark.sql.streaming.forceDeleteTempCheckpointLocation to true. Important to know deleting temp checkpoint folder is best effort.\n",
      "23/12/10 12:29:26 WARN ResolveWriteToStream: spark.sql.adaptive.enabled is not supported in streaming DataFrames/Datasets and will be disabled.\n",
      "23/12/10 12:29:27 ERROR MicroBatchExecution: Query [id = af282eae-4797-4640-ab35-1c0cd9b1c388, runId = 31145af9-822b-44b8-bbdb-8de9537b611c] terminated with error\n",
      "py4j.Py4JException: An exception was raised by the Python Proxy. Return Message: Traceback (most recent call last):\n",
      "  File \"/home/hdoop/bci/bci/lib/python3.10/site-packages/py4j/clientserver.py\", line 617, in _call_proxy\n",
      "    return_value = getattr(self.pool[obj_id], method)(*params)\n",
      "  File \"/home/hdoop/bci/bci/lib/python3.10/site-packages/pyspark/sql/utils.py\", line 120, in call\n",
      "    raise e\n",
      "  File \"/home/hdoop/bci/bci/lib/python3.10/site-packages/pyspark/sql/utils.py\", line 117, in call\n",
      "    self.func(DataFrame(jdf, wrapped_session_jdf), batch_id)\n",
      "  File \"/tmp/ipykernel_87748/2356524760.py\", line 7, in send_batch_to_http_server\n",
      "    response = requests.post('ttp://127.0.0.1:5000/post_data', json=record)\n",
      "  File \"/home/hdoop/bci/bci/lib/python3.10/site-packages/requests/api.py\", line 115, in post\n",
      "    return request(\"post\", url, data=data, json=json, **kwargs)\n",
      "  File \"/home/hdoop/bci/bci/lib/python3.10/site-packages/requests/api.py\", line 59, in request\n",
      "    return session.request(method=method, url=url, **kwargs)\n",
      "  File \"/home/hdoop/bci/bci/lib/python3.10/site-packages/requests/sessions.py\", line 589, in request\n",
      "    resp = self.send(prep, **send_kwargs)\n",
      "  File \"/home/hdoop/bci/bci/lib/python3.10/site-packages/requests/sessions.py\", line 697, in send\n",
      "    adapter = self.get_adapter(url=request.url)\n",
      "  File \"/home/hdoop/bci/bci/lib/python3.10/site-packages/requests/sessions.py\", line 794, in get_adapter\n",
      "    raise InvalidSchema(f\"No connection adapters were found for {url!r}\")\n",
      "requests.exceptions.InvalidSchema: No connection adapters were found for 'ttp://127.0.0.1:5000/post_data'\n",
      "\n",
      "\tat py4j.Protocol.getReturnValue(Protocol.java:476)\n",
      "\tat py4j.reflection.PythonProxyHandler.invoke(PythonProxyHandler.java:108)\n",
      "\tat com.sun.proxy.$Proxy92.call(Unknown Source)\n",
      "\tat org.apache.spark.sql.execution.streaming.sources.PythonForeachBatchHelper$.$anonfun$callForeachBatch$1(ForeachBatchSink.scala:53)\n",
      "\tat org.apache.spark.sql.execution.streaming.sources.PythonForeachBatchHelper$.$anonfun$callForeachBatch$1$adapted(ForeachBatchSink.scala:53)\n",
      "\tat org.apache.spark.sql.execution.streaming.sources.ForeachBatchSink.addBatch(ForeachBatchSink.scala:34)\n",
      "\tat org.apache.spark.sql.execution.streaming.MicroBatchExecution.$anonfun$runBatch$17(MicroBatchExecution.scala:732)\n",
      "\tat org.apache.spark.sql.execution.SQLExecution$.$anonfun$withNewExecutionId$6(SQLExecution.scala:125)\n",
      "\tat org.apache.spark.sql.execution.SQLExecution$.withSQLConfPropagated(SQLExecution.scala:201)\n",
      "\tat org.apache.spark.sql.execution.SQLExecution$.$anonfun$withNewExecutionId$1(SQLExecution.scala:108)\n",
      "\tat org.apache.spark.sql.SparkSession.withActive(SparkSession.scala:900)\n",
      "\tat org.apache.spark.sql.execution.SQLExecution$.withNewExecutionId(SQLExecution.scala:66)\n",
      "\tat org.apache.spark.sql.execution.streaming.MicroBatchExecution.$anonfun$runBatch$16(MicroBatchExecution.scala:729)\n",
      "\tat org.apache.spark.sql.execution.streaming.ProgressReporter.reportTimeTaken(ProgressReporter.scala:427)\n",
      "\tat org.apache.spark.sql.execution.streaming.ProgressReporter.reportTimeTaken$(ProgressReporter.scala:425)\n",
      "\tat org.apache.spark.sql.execution.streaming.StreamExecution.reportTimeTaken(StreamExecution.scala:67)\n",
      "\tat org.apache.spark.sql.execution.streaming.MicroBatchExecution.runBatch(MicroBatchExecution.scala:729)\n",
      "\tat org.apache.spark.sql.execution.streaming.MicroBatchExecution.$anonfun$runActivatedStream$2(MicroBatchExecution.scala:286)\n",
      "\tat scala.runtime.java8.JFunction0$mcV$sp.apply(JFunction0$mcV$sp.java:23)\n",
      "\tat org.apache.spark.sql.execution.streaming.ProgressReporter.reportTimeTaken(ProgressReporter.scala:427)\n",
      "\tat org.apache.spark.sql.execution.streaming.ProgressReporter.reportTimeTaken$(ProgressReporter.scala:425)\n",
      "\tat org.apache.spark.sql.execution.streaming.StreamExecution.reportTimeTaken(StreamExecution.scala:67)\n",
      "\tat org.apache.spark.sql.execution.streaming.MicroBatchExecution.$anonfun$runActivatedStream$1(MicroBatchExecution.scala:249)\n",
      "\tat org.apache.spark.sql.execution.streaming.ProcessingTimeExecutor.execute(TriggerExecutor.scala:67)\n",
      "\tat org.apache.spark.sql.execution.streaming.MicroBatchExecution.runActivatedStream(MicroBatchExecution.scala:239)\n",
      "\tat org.apache.spark.sql.execution.streaming.StreamExecution.$anonfun$runStream$1(StreamExecution.scala:311)\n",
      "\tat scala.runtime.java8.JFunction0$mcV$sp.apply(JFunction0$mcV$sp.java:23)\n",
      "\tat org.apache.spark.sql.SparkSession.withActive(SparkSession.scala:900)\n",
      "\tat org.apache.spark.sql.execution.streaming.StreamExecution.org$apache$spark$sql$execution$streaming$StreamExecution$$runStream(StreamExecution.scala:289)\n",
      "\tat org.apache.spark.sql.execution.streaming.StreamExecution$$anon$1.$anonfun$run$1(StreamExecution.scala:211)\n",
      "\tat scala.runtime.java8.JFunction0$mcV$sp.apply(JFunction0$mcV$sp.java:23)\n",
      "\tat org.apache.spark.JobArtifactSet$.withActiveJobArtifactState(JobArtifactSet.scala:94)\n",
      "\tat org.apache.spark.sql.execution.streaming.StreamExecution$$anon$1.run(StreamExecution.scala:211)\n"
     ]
    }
   ],
   "source": [
    "query = average_readings.writeStream\\\n",
    "        .outputMode(\"update\")\\\n",
    "        .foreachBatch(send_batch_to_http_server)\\\n",
    "        .trigger(processingTime='1000 milliseconds')\\\n",
    "        .start()"
   ]
  },
  {
   "cell_type": "code",
   "execution_count": 45,
   "id": "b3089dfa-5c3e-4fa6-b740-e8f4cccbe00e",
   "metadata": {},
   "outputs": [],
   "source": [
    "query.stop()"
   ]
  },
  {
   "cell_type": "code",
   "execution_count": null,
   "id": "1bdf7907-6fc3-4cfc-8967-7f752ce151b7",
   "metadata": {},
   "outputs": [],
   "source": []
  }
 ],
 "metadata": {
  "kernelspec": {
   "display_name": "Python 3 (ipykernel)",
   "language": "python",
   "name": "python3"
  },
  "language_info": {
   "codemirror_mode": {
    "name": "ipython",
    "version": 3
   },
   "file_extension": ".py",
   "mimetype": "text/x-python",
   "name": "python",
   "nbconvert_exporter": "python",
   "pygments_lexer": "ipython3",
   "version": "3.10.12"
  }
 },
 "nbformat": 4,
 "nbformat_minor": 5
}
