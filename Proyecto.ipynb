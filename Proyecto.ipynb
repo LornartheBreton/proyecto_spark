{
 "cells": [
  {
   "cell_type": "code",
   "execution_count": 1,
   "id": "b2a4e487-a966-433d-bed1-29095d1d3854",
   "metadata": {},
   "outputs": [],
   "source": [
    "from pyspark.sql import SparkSession\n",
    "from pyspark.sql.window import Window\n",
    "import pyspark.sql.functions as F"
   ]
  },
  {
   "cell_type": "code",
   "execution_count": 108,
   "id": "72e40288-e1e8-4054-896b-601096c5a029",
   "metadata": {},
   "outputs": [],
   "source": [
    "spark = SparkSession\\\n",
    "        .builder\\\n",
    "        .appName('bci')\\\n",
    "        .master('local')\\\n",
    "        .getOrCreate()"
   ]
  },
  {
   "cell_type": "code",
   "execution_count": 109,
   "id": "e1b794e2-aede-4214-b118-4590e307eec9",
   "metadata": {},
   "outputs": [
    {
     "data": {
      "text/html": [
       "\n",
       "            <div>\n",
       "                <p><b>SparkSession - in-memory</b></p>\n",
       "                \n",
       "        <div>\n",
       "            <p><b>SparkContext</b></p>\n",
       "\n",
       "            <p><a href=\"http://172.18.210.214:4040\">Spark UI</a></p>\n",
       "\n",
       "            <dl>\n",
       "              <dt>Version</dt>\n",
       "                <dd><code>v3.5.0</code></dd>\n",
       "              <dt>Master</dt>\n",
       "                <dd><code>local</code></dd>\n",
       "              <dt>AppName</dt>\n",
       "                <dd><code>bci</code></dd>\n",
       "            </dl>\n",
       "        </div>\n",
       "        \n",
       "            </div>\n",
       "        "
      ],
      "text/plain": [
       "<pyspark.sql.session.SparkSession at 0x7f509c777550>"
      ]
     },
     "execution_count": 109,
     "metadata": {},
     "output_type": "execute_result"
    }
   ],
   "source": [
    "spark"
   ]
  },
  {
   "cell_type": "markdown",
   "id": "1683b85b-3404-4a97-afb6-56ca53453ab7",
   "metadata": {},
   "source": [
    "## Load and transform the data"
   ]
  },
  {
   "cell_type": "code",
   "execution_count": 110,
   "id": "13e68a01-4775-4d97-8a58-2f33cce417c4",
   "metadata": {},
   "outputs": [
    {
     "name": "stderr",
     "output_type": "stream",
     "text": [
      "                                                                                \r"
     ]
    }
   ],
   "source": [
    "df = spark.read\\\n",
    "    .options(header=True,inferSchema='True',delimiter=',')\\\n",
    "    .csv(\"data/sub3_comp.csv\")"
   ]
  },
  {
   "cell_type": "code",
   "execution_count": 111,
   "id": "6d04192b-41ce-4843-b8aa-a8e7549bde41",
   "metadata": {},
   "outputs": [],
   "source": [
    "windowSpec = Window.orderBy(F.lit(1))"
   ]
  },
  {
   "cell_type": "code",
   "execution_count": 112,
   "id": "63489141-98ce-4803-9523-1e86abd57d1e",
   "metadata": {},
   "outputs": [],
   "source": [
    "df = df.withColumn(\"ms\", F.row_number().over(windowSpec))"
   ]
  },
  {
   "cell_type": "code",
   "execution_count": 113,
   "id": "2a570da1-0b4f-47c7-a144-270918584fe3",
   "metadata": {},
   "outputs": [],
   "source": [
    "df = df.withColumn(\"step\", F.ceil(df['ms']/100))"
   ]
  },
  {
   "cell_type": "code",
   "execution_count": 114,
   "id": "b0a9d923-385d-4125-818c-77eaaee9940e",
   "metadata": {},
   "outputs": [
    {
     "name": "stderr",
     "output_type": "stream",
     "text": [
      "23/12/11 07:31:53 WARN WindowExec: No Partition Defined for Window operation! Moving all data to a single partition, this can cause serious performance degradation.\n",
      "23/12/11 07:31:53 WARN WindowExec: No Partition Defined for Window operation! Moving all data to a single partition, this can cause serious performance degradation.\n",
      "23/12/11 07:31:53 WARN WindowExec: No Partition Defined for Window operation! Moving all data to a single partition, this can cause serious performance degradation.\n",
      "23/12/11 07:31:53 WARN WindowExec: No Partition Defined for Window operation! Moving all data to a single partition, this can cause serious performance degradation.\n",
      "23/12/11 07:31:53 WARN WindowExec: No Partition Defined for Window operation! Moving all data to a single partition, this can cause serious performance degradation.\n"
     ]
    },
    {
     "name": "stdout",
     "output_type": "stream",
     "text": [
      "+---+----+--------------------+\n",
      "| ms|step|               thumb|\n",
      "+---+----+--------------------+\n",
      "|  1|   1|-0.41384039298833086|\n",
      "|  2|   1|-0.41384039298833086|\n",
      "|  3|   1|-0.41384039298833086|\n",
      "|  4|   1|-0.41384039298833086|\n",
      "|  5|   1|-0.41384039298833086|\n",
      "|  6|   1|-0.41384039298833086|\n",
      "|  7|   1|-0.41384039298833086|\n",
      "|  8|   1|-0.41384039298833086|\n",
      "|  9|   1|-0.41384039298833086|\n",
      "| 10|   1|-0.41384039298833086|\n",
      "| 11|   1|-0.41384039298833086|\n",
      "| 12|   1|-0.41384039298833086|\n",
      "| 13|   1|-0.41384039298833086|\n",
      "| 14|   1|-0.41384039298833086|\n",
      "| 15|   1|-0.41384039298833086|\n",
      "| 16|   1|-0.41384039298833086|\n",
      "| 17|   1|-0.41384039298833086|\n",
      "| 18|   1|-0.41384039298833086|\n",
      "| 19|   1|-0.41384039298833086|\n",
      "| 20|   1|-0.41384039298833086|\n",
      "| 21|   1|-0.41384039298833086|\n",
      "| 22|   1|-0.41384039298833086|\n",
      "| 23|   1|-0.41384039298833086|\n",
      "| 24|   1|-0.41384039298833086|\n",
      "| 25|   1|-0.41384039298833086|\n",
      "| 26|   1|-0.41384039298833086|\n",
      "| 27|   1|-0.41384039298833086|\n",
      "| 28|   1|-0.41384039298833086|\n",
      "| 29|   1|-0.41384039298833086|\n",
      "| 30|   1|-0.41384039298833086|\n",
      "| 31|   1|-0.41384039298833086|\n",
      "| 32|   1|-0.41384039298833086|\n",
      "| 33|   1|-0.41384039298833086|\n",
      "| 34|   1|-0.41384039298833086|\n",
      "| 35|   1|-0.41384039298833086|\n",
      "| 36|   1|-0.41384039298833086|\n",
      "| 37|   1|-0.41384039298833086|\n",
      "| 38|   1|-0.41384039298833086|\n",
      "| 39|   1|-0.41384039298833086|\n",
      "| 40|   1|-0.41384039298833086|\n",
      "| 41|   1| -0.4069111168413501|\n",
      "| 42|   1| -0.4069111168413501|\n",
      "| 43|   1| -0.4069111168413501|\n",
      "| 44|   1| -0.4069111168413501|\n",
      "| 45|   1| -0.4069111168413501|\n",
      "| 46|   1| -0.4069111168413501|\n",
      "| 47|   1| -0.4069111168413501|\n",
      "| 48|   1| -0.4069111168413501|\n",
      "| 49|   1| -0.4069111168413501|\n",
      "| 50|   1| -0.4069111168413501|\n",
      "| 51|   1| -0.4069111168413501|\n",
      "| 52|   1| -0.4069111168413501|\n",
      "| 53|   1| -0.4069111168413501|\n",
      "| 54|   1| -0.4069111168413501|\n",
      "| 55|   1| -0.4069111168413501|\n",
      "| 56|   1| -0.4069111168413501|\n",
      "| 57|   1| -0.4069111168413501|\n",
      "| 58|   1| -0.4069111168413501|\n",
      "| 59|   1| -0.4069111168413501|\n",
      "| 60|   1| -0.4069111168413501|\n",
      "| 61|   1| -0.4069111168413501|\n",
      "| 62|   1| -0.4069111168413501|\n",
      "| 63|   1| -0.4069111168413501|\n",
      "| 64|   1| -0.4069111168413501|\n",
      "| 65|   1| -0.4069111168413501|\n",
      "| 66|   1| -0.4069111168413501|\n",
      "| 67|   1| -0.4069111168413501|\n",
      "| 68|   1| -0.4069111168413501|\n",
      "| 69|   1| -0.4069111168413501|\n",
      "| 70|   1| -0.4069111168413501|\n",
      "| 71|   1| -0.4069111168413501|\n",
      "| 72|   1| -0.4069111168413501|\n",
      "| 73|   1| -0.4069111168413501|\n",
      "| 74|   1| -0.4069111168413501|\n",
      "| 75|   1| -0.4069111168413501|\n",
      "| 76|   1| -0.4069111168413501|\n",
      "| 77|   1| -0.4069111168413501|\n",
      "| 78|   1| -0.4069111168413501|\n",
      "| 79|   1| -0.4069111168413501|\n",
      "| 80|   1| -0.4069111168413501|\n",
      "| 81|   1| -0.4069111168413501|\n",
      "| 82|   1| -0.4069111168413501|\n",
      "| 83|   1| -0.4069111168413501|\n",
      "| 84|   1| -0.4069111168413501|\n",
      "| 85|   1| -0.4069111168413501|\n",
      "| 86|   1| -0.4069111168413501|\n",
      "| 87|   1| -0.4069111168413501|\n",
      "| 88|   1| -0.4069111168413501|\n",
      "| 89|   1| -0.4069111168413501|\n",
      "| 90|   1| -0.4069111168413501|\n",
      "| 91|   1| -0.4069111168413501|\n",
      "| 92|   1| -0.4069111168413501|\n",
      "| 93|   1| -0.4069111168413501|\n",
      "| 94|   1| -0.4069111168413501|\n",
      "| 95|   1| -0.4069111168413501|\n",
      "| 96|   1| -0.4069111168413501|\n",
      "| 97|   1| -0.4069111168413501|\n",
      "| 98|   1| -0.4069111168413501|\n",
      "| 99|   1| -0.4069111168413501|\n",
      "|100|   1| -0.4069111168413501|\n",
      "|101|   2| -0.4069111168413501|\n",
      "|102|   2| -0.4069111168413501|\n",
      "|103|   2| -0.4069111168413501|\n",
      "|104|   2| -0.4069111168413501|\n",
      "|105|   2| -0.4069111168413501|\n",
      "|106|   2| -0.4069111168413501|\n",
      "|107|   2| -0.4069111168413501|\n",
      "|108|   2| -0.4069111168413501|\n",
      "|109|   2| -0.4069111168413501|\n",
      "|110|   2| -0.4069111168413501|\n",
      "|111|   2| -0.4069111168413501|\n",
      "|112|   2| -0.4069111168413501|\n",
      "|113|   2| -0.4069111168413501|\n",
      "|114|   2| -0.4069111168413501|\n",
      "|115|   2| -0.4069111168413501|\n",
      "|116|   2| -0.4069111168413501|\n",
      "|117|   2| -0.4069111168413501|\n",
      "|118|   2| -0.4069111168413501|\n",
      "|119|   2| -0.4069111168413501|\n",
      "|120|   2| -0.4069111168413501|\n",
      "|121|   2| -0.4069111168413501|\n",
      "|122|   2| -0.4069111168413501|\n",
      "|123|   2| -0.4069111168413501|\n",
      "|124|   2| -0.4069111168413501|\n",
      "|125|   2| -0.4069111168413501|\n",
      "|126|   2| -0.4069111168413501|\n",
      "|127|   2| -0.4069111168413501|\n",
      "|128|   2| -0.4069111168413501|\n",
      "|129|   2| -0.4069111168413501|\n",
      "|130|   2| -0.4069111168413501|\n",
      "|131|   2| -0.4069111168413501|\n",
      "|132|   2| -0.4069111168413501|\n",
      "|133|   2| -0.4069111168413501|\n",
      "|134|   2| -0.4069111168413501|\n",
      "|135|   2| -0.4069111168413501|\n",
      "|136|   2| -0.4069111168413501|\n",
      "|137|   2| -0.4069111168413501|\n",
      "|138|   2| -0.4069111168413501|\n",
      "|139|   2| -0.4069111168413501|\n",
      "|140|   2| -0.4069111168413501|\n",
      "|141|   2| -0.4069111168413501|\n",
      "|142|   2| -0.4069111168413501|\n",
      "|143|   2| -0.4069111168413501|\n",
      "|144|   2| -0.4069111168413501|\n",
      "|145|   2| -0.4069111168413501|\n",
      "|146|   2| -0.4069111168413501|\n",
      "|147|   2| -0.4069111168413501|\n",
      "|148|   2| -0.4069111168413501|\n",
      "|149|   2| -0.4069111168413501|\n",
      "|150|   2| -0.4069111168413501|\n",
      "|151|   2| -0.4069111168413501|\n",
      "|152|   2| -0.4069111168413501|\n",
      "|153|   2| -0.4069111168413501|\n",
      "|154|   2| -0.4069111168413501|\n",
      "|155|   2| -0.4069111168413501|\n",
      "|156|   2| -0.4069111168413501|\n",
      "|157|   2| -0.4069111168413501|\n",
      "|158|   2| -0.4069111168413501|\n",
      "|159|   2| -0.4069111168413501|\n",
      "|160|   2| -0.4069111168413501|\n",
      "|161|   2|-0.41384039298833086|\n",
      "|162|   2|-0.41384039298833086|\n",
      "|163|   2|-0.41384039298833086|\n",
      "|164|   2|-0.41384039298833086|\n",
      "|165|   2|-0.41384039298833086|\n",
      "|166|   2|-0.41384039298833086|\n",
      "|167|   2|-0.41384039298833086|\n",
      "|168|   2|-0.41384039298833086|\n",
      "|169|   2|-0.41384039298833086|\n",
      "|170|   2|-0.41384039298833086|\n",
      "|171|   2|-0.41384039298833086|\n",
      "|172|   2|-0.41384039298833086|\n",
      "|173|   2|-0.41384039298833086|\n",
      "|174|   2|-0.41384039298833086|\n",
      "|175|   2|-0.41384039298833086|\n",
      "|176|   2|-0.41384039298833086|\n",
      "|177|   2|-0.41384039298833086|\n",
      "|178|   2|-0.41384039298833086|\n",
      "|179|   2|-0.41384039298833086|\n",
      "|180|   2|-0.41384039298833086|\n",
      "|181|   2|-0.41384039298833086|\n",
      "|182|   2|-0.41384039298833086|\n",
      "|183|   2|-0.41384039298833086|\n",
      "|184|   2|-0.41384039298833086|\n",
      "|185|   2|-0.41384039298833086|\n",
      "|186|   2|-0.41384039298833086|\n",
      "|187|   2|-0.41384039298833086|\n",
      "|188|   2|-0.41384039298833086|\n",
      "|189|   2|-0.41384039298833086|\n",
      "|190|   2|-0.41384039298833086|\n",
      "|191|   2|-0.41384039298833086|\n",
      "|192|   2|-0.41384039298833086|\n",
      "|193|   2|-0.41384039298833086|\n",
      "|194|   2|-0.41384039298833086|\n",
      "|195|   2|-0.41384039298833086|\n",
      "|196|   2|-0.41384039298833086|\n",
      "|197|   2|-0.41384039298833086|\n",
      "|198|   2|-0.41384039298833086|\n",
      "|199|   2|-0.41384039298833086|\n",
      "|200|   2|-0.41384039298833086|\n",
      "+---+----+--------------------+\n",
      "only showing top 200 rows\n",
      "\n"
     ]
    }
   ],
   "source": [
    "df.select(\"ms\",\"step\",\"thumb\").show(200)"
   ]
  },
  {
   "cell_type": "code",
   "execution_count": 13,
   "id": "1dc4ae91-4384-48e5-80e1-371bcd7c45dd",
   "metadata": {},
   "outputs": [],
   "source": [
    "num_files = 4000\n"
   ]
  },
  {
   "cell_type": "code",
   "execution_count": 14,
   "id": "5dfddf52-27de-4f4e-9108-878f8d2fac4e",
   "metadata": {},
   "outputs": [
    {
     "name": "stderr",
     "output_type": "stream",
     "text": [
      "23/12/10 11:45:33 WARN WindowExec: No Partition Defined for Window operation! Moving all data to a single partition, this can cause serious performance degradation.\n",
      "23/12/10 11:45:33 WARN WindowExec: No Partition Defined for Window operation! Moving all data to a single partition, this can cause serious performance degradation.\n",
      "23/12/10 11:45:33 WARN SparkStringUtils: Truncated the string representation of a plan since it was too large. This behavior can be adjusted by setting 'spark.sql.debug.maxToStringFields'.\n",
      "23/12/10 11:45:43 WARN WindowExec: No Partition Defined for Window operation! Moving all data to a single partition, this can cause serious performance degradation.\n",
      "23/12/10 11:45:43 WARN WindowExec: No Partition Defined for Window operation! Moving all data to a single partition, this can cause serious performance degradation.\n",
      "                                                                                \r"
     ]
    }
   ],
   "source": [
    "df = df.repartition(num_files)\n",
    "\n",
    "df.write.csv(\"data/processed_bci_csv\",\n",
    "             mode = \"overwrite\",\n",
    "             header = True)"
   ]
  },
  {
   "cell_type": "markdown",
   "id": "56a0aa31-4dd9-49c6-ac5a-ea3a08f5c4b6",
   "metadata": {},
   "source": [
    "## Get Data Schema"
   ]
  },
  {
   "cell_type": "code",
   "execution_count": 115,
   "id": "3ea04728-a1c4-4466-af7d-226e65418d83",
   "metadata": {},
   "outputs": [],
   "source": [
    "dataSchema = df.schema"
   ]
  },
  {
   "cell_type": "markdown",
   "id": "86ebf30c-7e9d-4871-89b5-63438774d57a",
   "metadata": {},
   "source": [
    "## Set up stream"
   ]
  },
  {
   "cell_type": "code",
   "execution_count": 116,
   "id": "07b22709-4f09-46ac-a083-c328f0455096",
   "metadata": {},
   "outputs": [],
   "source": [
    "signals = spark\\\n",
    "            .readStream\\\n",
    "            .format('csv')\\\n",
    "            .schema(dataSchema)\\\n",
    "            .option(\"header\",True)\\\n",
    "            .option(\"maxFilesPerTrigger\",1)\\\n",
    "            .load(r\"data/processed_bci_csv/\")"
   ]
  },
  {
   "cell_type": "code",
   "execution_count": 117,
   "id": "cf68b7c7-dde5-40b3-a0ed-417163f3ddc7",
   "metadata": {},
   "outputs": [
    {
     "data": {
      "text/plain": [
       "True"
      ]
     },
     "execution_count": 117,
     "metadata": {},
     "output_type": "execute_result"
    }
   ],
   "source": [
    "signals.isStreaming"
   ]
  },
  {
   "cell_type": "code",
   "execution_count": 118,
   "id": "2d1f0abe-0cdf-4237-a87c-e79febe44c55",
   "metadata": {},
   "outputs": [
    {
     "name": "stdout",
     "output_type": "stream",
     "text": [
      "root\n",
      " |-- thumb: double (nullable = true)\n",
      " |-- index: double (nullable = true)\n",
      " |-- middle: double (nullable = true)\n",
      " |-- ring: double (nullable = true)\n",
      " |-- little: double (nullable = true)\n",
      " |-- channel_1: double (nullable = true)\n",
      " |-- channel_2: double (nullable = true)\n",
      " |-- channel_3: double (nullable = true)\n",
      " |-- channel_4: double (nullable = true)\n",
      " |-- channel_5: double (nullable = true)\n",
      " |-- channel_6: double (nullable = true)\n",
      " |-- channel_7: double (nullable = true)\n",
      " |-- channel_8: double (nullable = true)\n",
      " |-- channel_9: double (nullable = true)\n",
      " |-- channel_10: double (nullable = true)\n",
      " |-- channel_11: double (nullable = true)\n",
      " |-- channel_12: double (nullable = true)\n",
      " |-- channel_13: double (nullable = true)\n",
      " |-- channel_14: double (nullable = true)\n",
      " |-- channel_15: double (nullable = true)\n",
      " |-- channel_16: double (nullable = true)\n",
      " |-- channel_17: double (nullable = true)\n",
      " |-- channel_18: double (nullable = true)\n",
      " |-- channel_19: double (nullable = true)\n",
      " |-- channel_20: double (nullable = true)\n",
      " |-- channel_21: double (nullable = true)\n",
      " |-- channel_22: double (nullable = true)\n",
      " |-- channel_23: double (nullable = true)\n",
      " |-- channel_24: double (nullable = true)\n",
      " |-- channel_25: double (nullable = true)\n",
      " |-- channel_26: double (nullable = true)\n",
      " |-- channel_27: double (nullable = true)\n",
      " |-- channel_28: double (nullable = true)\n",
      " |-- channel_29: double (nullable = true)\n",
      " |-- channel_30: double (nullable = true)\n",
      " |-- channel_31: double (nullable = true)\n",
      " |-- channel_32: double (nullable = true)\n",
      " |-- channel_33: double (nullable = true)\n",
      " |-- channel_34: double (nullable = true)\n",
      " |-- channel_35: double (nullable = true)\n",
      " |-- channel_36: double (nullable = true)\n",
      " |-- channel_37: double (nullable = true)\n",
      " |-- channel_38: double (nullable = true)\n",
      " |-- channel_39: double (nullable = true)\n",
      " |-- channel_40: double (nullable = true)\n",
      " |-- channel_41: double (nullable = true)\n",
      " |-- channel_42: double (nullable = true)\n",
      " |-- channel_43: double (nullable = true)\n",
      " |-- channel_44: double (nullable = true)\n",
      " |-- channel_45: double (nullable = true)\n",
      " |-- channel_46: double (nullable = true)\n",
      " |-- channel_47: double (nullable = true)\n",
      " |-- channel_48: double (nullable = true)\n",
      " |-- channel_49: double (nullable = true)\n",
      " |-- channel_50: double (nullable = true)\n",
      " |-- channel_51: double (nullable = true)\n",
      " |-- channel_52: double (nullable = true)\n",
      " |-- channel_53: double (nullable = true)\n",
      " |-- channel_54: double (nullable = true)\n",
      " |-- channel_55: double (nullable = true)\n",
      " |-- channel_56: double (nullable = true)\n",
      " |-- channel_57: double (nullable = true)\n",
      " |-- channel_58: double (nullable = true)\n",
      " |-- channel_59: double (nullable = true)\n",
      " |-- channel_60: double (nullable = true)\n",
      " |-- channel_61: double (nullable = true)\n",
      " |-- channel_62: double (nullable = true)\n",
      " |-- channel_63: double (nullable = true)\n",
      " |-- channel_64: double (nullable = true)\n",
      " |-- ms: integer (nullable = true)\n",
      " |-- step: long (nullable = true)\n",
      "\n"
     ]
    }
   ],
   "source": [
    "signals.printSchema()"
   ]
  },
  {
   "cell_type": "markdown",
   "id": "40fc6393-918f-41d0-8db5-1ac2b35e604e",
   "metadata": {},
   "source": [
    "## Create transformation"
   ]
  },
  {
   "cell_type": "code",
   "execution_count": 121,
   "id": "57ee6e3c-bd64-425f-9683-f131865cfeb6",
   "metadata": {},
   "outputs": [],
   "source": [
    "average_readings = signals.select([F.avg(col).alias('avg_' + col) for col in signals.columns])"
   ]
  },
  {
   "cell_type": "code",
   "execution_count": 14,
   "id": "812f3abe-ca9b-427f-a8bf-267495a21fe1",
   "metadata": {},
   "outputs": [],
   "source": [
    "import requests"
   ]
  },
  {
   "cell_type": "code",
   "execution_count": 15,
   "id": "cab75260-f859-4b96-81f8-1e316b0a4a11",
   "metadata": {},
   "outputs": [],
   "source": [
    "def send_batch_to_http_server(batch_df, epoch_id):\n",
    "    # Convert the DataFrame to a JSON string or another suitable format\n",
    "    json_data = batch_df.toJSON().collect()\n",
    "    \n",
    "    # HTTP POST request for each record in the batch\n",
    "    for record in json_data:\n",
    "        response = requests.post('ttp://127.0.0.1:5000/post_data', json=record)\n",
    "        # Handle the response if necessary"
   ]
  },
  {
   "cell_type": "code",
   "execution_count": 125,
   "id": "e199114e-e2b2-493a-b4a2-badb56157938",
   "metadata": {},
   "outputs": [
    {
     "name": "stderr",
     "output_type": "stream",
     "text": [
      "23/12/11 07:34:51 WARN ResolveWriteToStream: Temporary checkpoint location created which is deleted normally when the query didn't fail: /tmp/temporary-65bc2e65-0969-4499-aef3-fc4f55c596e8. If it's required to delete it under any circumstances, please set spark.sql.streaming.forceDeleteTempCheckpointLocation to true. Important to know deleting temp checkpoint folder is best effort.\n",
      "23/12/11 07:34:51 WARN ResolveWriteToStream: spark.sql.adaptive.enabled is not supported in streaming DataFrames/Datasets and will be disabled.\n",
      "23/12/11 07:35:37 WARN ProcessingTimeExecutor: Current batch is falling behind. The trigger interval is 1000 milliseconds, but spent 45526 milliseconds\n",
      "23/12/11 07:36:20 WARN ProcessingTimeExecutor: Current batch is falling behind. The trigger interval is 1000 milliseconds, but spent 43049 milliseconds\n",
      "23/12/11 07:36:47 WARN ProcessingTimeExecutor: Current batch is falling behind. The trigger interval is 1000 milliseconds, but spent 26673 milliseconds\n",
      "23/12/11 07:37:15 WARN ProcessingTimeExecutor: Current batch is falling behind. The trigger interval is 1000 milliseconds, but spent 28060 milliseconds\n",
      "23/12/11 07:37:43 WARN ProcessingTimeExecutor: Current batch is falling behind. The trigger interval is 1000 milliseconds, but spent 28176 milliseconds\n",
      "23/12/11 07:38:11 WARN ProcessingTimeExecutor: Current batch is falling behind. The trigger interval is 1000 milliseconds, but spent 27923 milliseconds\n",
      "23/12/11 07:38:40 WARN ProcessingTimeExecutor: Current batch is falling behind. The trigger interval is 1000 milliseconds, but spent 29499 milliseconds\n",
      "23/12/11 07:39:09 WARN ProcessingTimeExecutor: Current batch is falling behind. The trigger interval is 1000 milliseconds, but spent 28360 milliseconds\n",
      "23/12/11 07:39:37 WARN ProcessingTimeExecutor: Current batch is falling behind. The trigger interval is 1000 milliseconds, but spent 28208 milliseconds\n",
      "23/12/11 07:40:06 WARN ProcessingTimeExecutor: Current batch is falling behind. The trigger interval is 1000 milliseconds, but spent 29317 milliseconds\n",
      "23/12/11 07:40:35 WARN ProcessingTimeExecutor: Current batch is falling behind. The trigger interval is 1000 milliseconds, but spent 28456 milliseconds\n",
      "23/12/11 07:41:03 WARN ProcessingTimeExecutor: Current batch is falling behind. The trigger interval is 1000 milliseconds, but spent 27803 milliseconds\n",
      "23/12/11 07:41:31 WARN ProcessingTimeExecutor: Current batch is falling behind. The trigger interval is 1000 milliseconds, but spent 28059 milliseconds\n",
      "23/12/11 07:42:01 WARN ProcessingTimeExecutor: Current batch is falling behind. The trigger interval is 1000 milliseconds, but spent 29906 milliseconds\n",
      "23/12/11 07:42:30 WARN ProcessingTimeExecutor: Current batch is falling behind. The trigger interval is 1000 milliseconds, but spent 29370 milliseconds\n",
      "23/12/11 07:42:57 WARN ProcessingTimeExecutor: Current batch is falling behind. The trigger interval is 1000 milliseconds, but spent 27338 milliseconds\n",
      "23/12/11 07:43:24 WARN ProcessingTimeExecutor: Current batch is falling behind. The trigger interval is 1000 milliseconds, but spent 26499 milliseconds\n",
      "23/12/11 07:43:52 WARN ProcessingTimeExecutor: Current batch is falling behind. The trigger interval is 1000 milliseconds, but spent 28361 milliseconds\n",
      "23/12/11 07:44:20 WARN ProcessingTimeExecutor: Current batch is falling behind. The trigger interval is 1000 milliseconds, but spent 27852 milliseconds\n",
      "23/12/11 07:44:47 WARN ProcessingTimeExecutor: Current batch is falling behind. The trigger interval is 1000 milliseconds, but spent 27167 milliseconds\n",
      "[Stage 46:============================================>         (163 + 1) / 200]\r"
     ]
    }
   ],
   "source": [
    "query = average_readings.writeStream\\\n",
    "        .outputMode(\"update\")\\\n",
    "        .format(\"memory\")\\\n",
    "        .queryName(\"avg_readings\")\\\n",
    "        .trigger(processingTime='1000 milliseconds')\\\n",
    "        .start()"
   ]
  },
  {
   "cell_type": "code",
   "execution_count": 126,
   "id": "b3089dfa-5c3e-4fa6-b740-e8f4cccbe00e",
   "metadata": {},
   "outputs": [
    {
     "name": "stderr",
     "output_type": "stream",
     "text": [
      "23/12/11 07:45:09 ERROR WriteToDataSourceV2Exec: Data source write support MicroBatchWrite[epoch: 20, writer: org.apache.spark.sql.execution.streaming.sources.MemoryStreamingWrite@7b9c438d] is aborting.\n",
      "23/12/11 07:45:09 ERROR WriteToDataSourceV2Exec: Data source write support MicroBatchWrite[epoch: 20, writer: org.apache.spark.sql.execution.streaming.sources.MemoryStreamingWrite@7b9c438d] aborted.\n",
      "23/12/11 07:45:09 WARN TaskSetManager: Lost task 165.0 in stage 46.0 (TID 4192) (172.18.210.214 executor driver): TaskKilled (Stage cancelled: Job 24 cancelled part of cancelled job group 868169ef-e180-414c-b6e3-03c73b9793f5)\n"
     ]
    }
   ],
   "source": [
    "query.stop()"
   ]
  },
  {
   "cell_type": "code",
   "execution_count": 127,
   "id": "1bdf7907-6fc3-4cfc-8967-7f752ce151b7",
   "metadata": {},
   "outputs": [
    {
     "name": "stderr",
     "output_type": "stream",
     "text": [
      "23/12/11 07:45:53 WARN StateStore: Error running maintenance thread\n",
      "java.lang.IllegalStateException: SparkEnv not active, cannot do maintenance on StateStores\n",
      "\tat org.apache.spark.sql.execution.streaming.state.StateStore$.doMaintenance(StateStore.scala:632)\n",
      "\tat org.apache.spark.sql.execution.streaming.state.StateStore$.$anonfun$startMaintenanceIfNeeded$1(StateStore.scala:610)\n",
      "\tat org.apache.spark.sql.execution.streaming.state.StateStore$MaintenanceTask$$anon$1.run(StateStore.scala:453)\n",
      "\tat java.util.concurrent.Executors$RunnableAdapter.call(Executors.java:511)\n",
      "\tat java.util.concurrent.FutureTask.runAndReset(FutureTask.java:308)\n",
      "\tat java.util.concurrent.ScheduledThreadPoolExecutor$ScheduledFutureTask.access$301(ScheduledThreadPoolExecutor.java:180)\n",
      "\tat java.util.concurrent.ScheduledThreadPoolExecutor$ScheduledFutureTask.run(ScheduledThreadPoolExecutor.java:294)\n",
      "\tat java.util.concurrent.ThreadPoolExecutor.runWorker(ThreadPoolExecutor.java:1149)\n",
      "\tat java.util.concurrent.ThreadPoolExecutor$Worker.run(ThreadPoolExecutor.java:624)\n",
      "\tat java.lang.Thread.run(Thread.java:750)\n"
     ]
    }
   ],
   "source": [
    "spark.stop()"
   ]
  }
 ],
 "metadata": {
  "kernelspec": {
   "display_name": "Python 3 (ipykernel)",
   "language": "python",
   "name": "python3"
  },
  "language_info": {
   "codemirror_mode": {
    "name": "ipython",
    "version": 3
   },
   "file_extension": ".py",
   "mimetype": "text/x-python",
   "name": "python",
   "nbconvert_exporter": "python",
   "pygments_lexer": "ipython3",
   "version": "3.10.12"
  }
 },
 "nbformat": 4,
 "nbformat_minor": 5
}
